{
  "cells": [
    {
      "cell_type": "code",
      "execution_count": 203,
      "metadata": {
        "colab": {
          "base_uri": "https://localhost:8080/"
        },
        "id": "DJOS-H2UmxeO",
        "outputId": "234e14c7-cbc9-492f-cce6-da6aa7fcef92"
      },
      "outputs": [
        {
          "name": "stdout",
          "output_type": "stream",
          "text": [
            "Requirement already satisfied: pyvis in /Applications/anaconda3/envs/bds-streamlit/lib/python3.11/site-packages (0.3.2)\n",
            "Requirement already satisfied: ipython>=5.3.0 in /Applications/anaconda3/envs/bds-streamlit/lib/python3.11/site-packages (from pyvis) (8.15.0)\n",
            "Requirement already satisfied: jinja2>=2.9.6 in /Applications/anaconda3/envs/bds-streamlit/lib/python3.11/site-packages (from pyvis) (3.1.2)\n",
            "Requirement already satisfied: jsonpickle>=1.4.1 in /Applications/anaconda3/envs/bds-streamlit/lib/python3.11/site-packages (from pyvis) (3.0.2)\n",
            "Requirement already satisfied: networkx>=1.11 in /Applications/anaconda3/envs/bds-streamlit/lib/python3.11/site-packages (from pyvis) (3.2.1)\n",
            "Requirement already satisfied: backcall in /Applications/anaconda3/envs/bds-streamlit/lib/python3.11/site-packages (from ipython>=5.3.0->pyvis) (0.2.0)\n",
            "Requirement already satisfied: decorator in /Applications/anaconda3/envs/bds-streamlit/lib/python3.11/site-packages (from ipython>=5.3.0->pyvis) (5.1.1)\n",
            "Requirement already satisfied: jedi>=0.16 in /Applications/anaconda3/envs/bds-streamlit/lib/python3.11/site-packages (from ipython>=5.3.0->pyvis) (0.19.0)\n",
            "Requirement already satisfied: matplotlib-inline in /Applications/anaconda3/envs/bds-streamlit/lib/python3.11/site-packages (from ipython>=5.3.0->pyvis) (0.1.6)\n",
            "Requirement already satisfied: pickleshare in /Applications/anaconda3/envs/bds-streamlit/lib/python3.11/site-packages (from ipython>=5.3.0->pyvis) (0.7.5)\n",
            "Requirement already satisfied: prompt-toolkit!=3.0.37,<3.1.0,>=3.0.30 in /Applications/anaconda3/envs/bds-streamlit/lib/python3.11/site-packages (from ipython>=5.3.0->pyvis) (3.0.39)\n",
            "Requirement already satisfied: pygments>=2.4.0 in /Applications/anaconda3/envs/bds-streamlit/lib/python3.11/site-packages (from ipython>=5.3.0->pyvis) (2.16.1)\n",
            "Requirement already satisfied: stack-data in /Applications/anaconda3/envs/bds-streamlit/lib/python3.11/site-packages (from ipython>=5.3.0->pyvis) (0.6.2)\n",
            "Requirement already satisfied: traitlets>=5 in /Applications/anaconda3/envs/bds-streamlit/lib/python3.11/site-packages (from ipython>=5.3.0->pyvis) (5.10.1)\n",
            "Requirement already satisfied: pexpect>4.3 in /Applications/anaconda3/envs/bds-streamlit/lib/python3.11/site-packages (from ipython>=5.3.0->pyvis) (4.8.0)\n",
            "Requirement already satisfied: appnope in /Applications/anaconda3/envs/bds-streamlit/lib/python3.11/site-packages (from ipython>=5.3.0->pyvis) (0.1.3)\n",
            "Requirement already satisfied: MarkupSafe>=2.0 in /Applications/anaconda3/envs/bds-streamlit/lib/python3.11/site-packages (from jinja2>=2.9.6->pyvis) (2.1.3)\n",
            "Requirement already satisfied: parso<0.9.0,>=0.8.3 in /Applications/anaconda3/envs/bds-streamlit/lib/python3.11/site-packages (from jedi>=0.16->ipython>=5.3.0->pyvis) (0.8.3)\n",
            "Requirement already satisfied: ptyprocess>=0.5 in /Applications/anaconda3/envs/bds-streamlit/lib/python3.11/site-packages (from pexpect>4.3->ipython>=5.3.0->pyvis) (0.7.0)\n",
            "Requirement already satisfied: wcwidth in /Applications/anaconda3/envs/bds-streamlit/lib/python3.11/site-packages (from prompt-toolkit!=3.0.37,<3.1.0,>=3.0.30->ipython>=5.3.0->pyvis) (0.2.6)\n",
            "Requirement already satisfied: executing>=1.2.0 in /Applications/anaconda3/envs/bds-streamlit/lib/python3.11/site-packages (from stack-data->ipython>=5.3.0->pyvis) (1.2.0)\n",
            "Requirement already satisfied: asttokens>=2.1.0 in /Applications/anaconda3/envs/bds-streamlit/lib/python3.11/site-packages (from stack-data->ipython>=5.3.0->pyvis) (2.4.0)\n",
            "Requirement already satisfied: pure-eval in /Applications/anaconda3/envs/bds-streamlit/lib/python3.11/site-packages (from stack-data->ipython>=5.3.0->pyvis) (0.2.2)\n",
            "Requirement already satisfied: six>=1.12.0 in /Applications/anaconda3/envs/bds-streamlit/lib/python3.11/site-packages (from asttokens>=2.1.0->stack-data->ipython>=5.3.0->pyvis) (1.16.0)\n"
          ]
        }
      ],
      "source": [
        "!pip install pyvis"
      ]
    },
    {
      "cell_type": "code",
      "execution_count": 204,
      "metadata": {
        "id": "y_pCGuzKmoJu"
      },
      "outputs": [],
      "source": [
        "import pandas as pd\n",
        "import networkx as nx\n",
        "import numpy as np\n",
        "from pyvis.network import Network\n",
        "from community import community_louvain"
      ]
    },
    {
      "cell_type": "code",
      "execution_count": 205,
      "metadata": {
        "id": "FvyyqfrCmak4"
      },
      "outputs": [],
      "source": [
        "#importing the dataset and showing the head of the table\n",
        "#filepath_edgelist = 'congress.edgelist'\n",
        "\n",
        "#data = nx.read_edgelist(filepath_edgelist, create_using=nx.DiGraph)\n",
        "\n",
        "#G_pandas = nx.to_pandas_edgelist(data)\n",
        "\n",
        "#G_pandas['source'] = G_pandas['source'].astype(int)\n",
        "#G_pandas['target'] = G_pandas['target'].astype(int)\n",
        "#G_pandas.head()"
      ]
    },
    {
      "cell_type": "code",
      "execution_count": 206,
      "metadata": {},
      "outputs": [
        {
          "data": {
            "text/html": [
              "<div>\n",
              "<style scoped>\n",
              "    .dataframe tbody tr th:only-of-type {\n",
              "        vertical-align: middle;\n",
              "    }\n",
              "\n",
              "    .dataframe tbody tr th {\n",
              "        vertical-align: top;\n",
              "    }\n",
              "\n",
              "    .dataframe thead th {\n",
              "        text-align: right;\n",
              "    }\n",
              "</style>\n",
              "<table border=\"1\" class=\"dataframe\">\n",
              "  <thead>\n",
              "    <tr style=\"text-align: right;\">\n",
              "      <th></th>\n",
              "      <th>inList</th>\n",
              "      <th>inWeight</th>\n",
              "      <th>outList</th>\n",
              "      <th>outWeight</th>\n",
              "      <th>usernameList</th>\n",
              "    </tr>\n",
              "  </thead>\n",
              "  <tbody>\n",
              "    <tr>\n",
              "      <th>0</th>\n",
              "      <td>[[4, 9, 11, 13, 18, 27, 29, 33, 38, 45, 46, 50...</td>\n",
              "      <td>[[0.0036496350364960003, 0.0036101083032490005...</td>\n",
              "      <td>[[4, 12, 18, 25, 30, 46, 55, 58, 59, 74, 76, 7...</td>\n",
              "      <td>[[0.002105263157894, 0.002105263157894, 0.0021...</td>\n",
              "      <td>[SenatorBaldwin, SenJohnBarrasso, SenatorBenne...</td>\n",
              "    </tr>\n",
              "  </tbody>\n",
              "</table>\n",
              "</div>"
            ],
            "text/plain": [
              "                                              inList  \\\n",
              "0  [[4, 9, 11, 13, 18, 27, 29, 33, 38, 45, 46, 50...   \n",
              "\n",
              "                                            inWeight  \\\n",
              "0  [[0.0036496350364960003, 0.0036101083032490005...   \n",
              "\n",
              "                                             outList  \\\n",
              "0  [[4, 12, 18, 25, 30, 46, 55, 58, 59, 74, 76, 7...   \n",
              "\n",
              "                                           outWeight  \\\n",
              "0  [[0.002105263157894, 0.002105263157894, 0.0021...   \n",
              "\n",
              "                                        usernameList  \n",
              "0  [SenatorBaldwin, SenJohnBarrasso, SenatorBenne...  "
            ]
          },
          "execution_count": 206,
          "metadata": {},
          "output_type": "execute_result"
        }
      ],
      "source": [
        "# Importing the dataset and showing the head of the table\n",
        "df = pd.read_json('https://raw.githubusercontent.com/gsprint23/CongressionalTwitterNetwork/master/congress_network_data.json')\n",
        "df.head()"
      ]
    },
    {
      "cell_type": "code",
      "execution_count": 207,
      "metadata": {},
      "outputs": [
        {
          "data": {
            "text/html": [
              "<div>\n",
              "<style scoped>\n",
              "    .dataframe tbody tr th:only-of-type {\n",
              "        vertical-align: middle;\n",
              "    }\n",
              "\n",
              "    .dataframe tbody tr th {\n",
              "        vertical-align: top;\n",
              "    }\n",
              "\n",
              "    .dataframe thead th {\n",
              "        text-align: right;\n",
              "    }\n",
              "</style>\n",
              "<table border=\"1\" class=\"dataframe\">\n",
              "  <thead>\n",
              "    <tr style=\"text-align: right;\">\n",
              "      <th></th>\n",
              "      <th>source</th>\n",
              "      <th>target</th>\n",
              "      <th>weight</th>\n",
              "    </tr>\n",
              "  </thead>\n",
              "  <tbody>\n",
              "    <tr>\n",
              "      <th>0</th>\n",
              "      <td>SenBlumenthal</td>\n",
              "      <td>SenatorBaldwin</td>\n",
              "      <td>0.003650</td>\n",
              "    </tr>\n",
              "    <tr>\n",
              "      <th>1</th>\n",
              "      <td>SenSherrodBrown</td>\n",
              "      <td>SenatorBaldwin</td>\n",
              "      <td>0.003610</td>\n",
              "    </tr>\n",
              "    <tr>\n",
              "      <th>2</th>\n",
              "      <td>SenCapito</td>\n",
              "      <td>SenatorBaldwin</td>\n",
              "      <td>0.004073</td>\n",
              "    </tr>\n",
              "    <tr>\n",
              "      <th>3</th>\n",
              "      <td>SenatorCarper</td>\n",
              "      <td>SenatorBaldwin</td>\n",
              "      <td>0.003145</td>\n",
              "    </tr>\n",
              "    <tr>\n",
              "      <th>4</th>\n",
              "      <td>SenCortezMasto</td>\n",
              "      <td>SenatorBaldwin</td>\n",
              "      <td>0.002347</td>\n",
              "    </tr>\n",
              "  </tbody>\n",
              "</table>\n",
              "</div>"
            ],
            "text/plain": [
              "            source          target    weight\n",
              "0    SenBlumenthal  SenatorBaldwin  0.003650\n",
              "1  SenSherrodBrown  SenatorBaldwin  0.003610\n",
              "2        SenCapito  SenatorBaldwin  0.004073\n",
              "3    SenatorCarper  SenatorBaldwin  0.003145\n",
              "4   SenCortezMasto  SenatorBaldwin  0.002347"
            ]
          },
          "execution_count": 207,
          "metadata": {},
          "output_type": "execute_result"
        }
      ],
      "source": [
        "# Extracting the necessary data from the dataframe\n",
        "inList = df['inList'][0]\n",
        "inWeight = df['inWeight'][0]\n",
        "outList = df['outList'][0]\n",
        "outWeight = df['outWeight'][0]\n",
        "usernameList = df['usernameList'][0]\n",
        "\n",
        "# Creating empty lists to hold the source, target, and weight values\n",
        "sources = []\n",
        "targets = []\n",
        "weights = []\n",
        "\n",
        "# Populating the lists with values from inList and outList\n",
        "for i, (in_edges, out_edges) in enumerate(zip(inList, outList)):\n",
        "    source = usernameList[i]\n",
        "\n",
        "    # Handling inbound connections\n",
        "    for target_index, weight in zip(in_edges, inWeight[i]):\n",
        "        target = usernameList[target_index]\n",
        "        sources.append(target)\n",
        "        targets.append(source)\n",
        "        weights.append(weight)\n",
        "\n",
        "    # Handling outbound connections\n",
        "    for target_index, weight in zip(out_edges, outWeight[i]):\n",
        "        target = usernameList[target_index]\n",
        "        sources.append(source)\n",
        "        targets.append(target)\n",
        "        weights.append(weight)\n",
        "\n",
        "# Creating a DataFrame from the populated lists\n",
        "network_df = pd.DataFrame({\n",
        "    'source': sources,\n",
        "    'target': targets,\n",
        "    'weight': weights\n",
        "})\n",
        "\n",
        "# Displaying the first few rows of the new DataFrame to verify the structure\n",
        "network_df.head()"
      ]
    },
    {
      "cell_type": "code",
      "execution_count": 208,
      "metadata": {},
      "outputs": [
        {
          "data": {
            "text/plain": [
              "Index(['SpeakerPelosi', 'SteveScalise', 'RepBobbyRush', 'GOPLeader',\n",
              "       'RepJoeWilson', 'RepMarkTakano', 'RepJamesComer', 'RepBobGood',\n",
              "       'RepCloudTX', 'RepFranklin', 'RepLucyMcBath', 'SenMikeLee', 'RepSpartz',\n",
              "       'RepCori', 'PatrickMcHenry', 'rosadelauro', 'RepJohnKatko',\n",
              "       'RepJeffries', 'replouiegohmert', 'RepKClark', 'RepJudyChu',\n",
              "       'VernBuchanan', 'RepBarbaraLee', 'RepRalphNorman', 'RepMariaSalazar',\n",
              "       'RepRichHudson', 'RepTiffany', 'RepBoebert', 'RepWesterman',\n",
              "       'RepAdamSchiff', 'SenGillibrand', 'SenSchumer', 'SenSanders',\n",
              "       'BennieGThompson', 'SenTinaSmith', 'RepUnderwood', 'RepMaryMiller',\n",
              "       'RepDianaDeGette', 'RepBost', 'RepMcKinley', 'RepSpeier', 'RepBlaine',\n",
              "       'RepAnnWagner', 'cathymcmorris', 'RepJasonCrow', 'SenWarren',\n",
              "       'SenSherrodBrown', 'RepDavidRouzer', 'RonWyden', 'ChrisVanHollen',\n",
              "       'RepKatiePorter', 'SenatorLujan', 'RepBice', 'RepHarshbarger',\n",
              "       'RepArrington', 'RepMcCaul', 'RepRitchie', 'RepLoudermilk',\n",
              "       'RepKimSchrier', 'timkaine', 'RepLaMalfa', 'RepAndyBiggsAZ',\n",
              "       'SenJohnThune', 'RepRickAllen', 'RepCarlos', 'NydiaVelazquez',\n",
              "       'RepGrothman', 'RepBryanSteil', 'RepTedBudd', 'RepBeatty',\n",
              "       'RepMoBrooks', 'RepPfluger', 'RepDavidValadao', 'SenTomCotton',\n",
              "       'RepRaulGrijalva', 'ChuckGrassley', 'SenAmyKlobuchar',\n",
              "       'RepDustyJohnson', 'RepFeenstra', 'RepRonnyJackson', 'RepBrianFitz',\n",
              "       'RepRichardNeal', 'RepLawrence', 'RepMondaire', 'gracenapolitano',\n",
              "       'RepChrisStewart', 'LeaderHoyer', 'RepJerryNadler', 'RepMikeJohnson',\n",
              "       'RepBrianBabin', 'SenDuckworth', 'RepNikema', 'RepSchneider',\n",
              "       'SenAlexPadilla', 'RobWittman', 'RepHerrell', 'RepBobGibbs',\n",
              "       'RepClayHiggins', 'RepBonnie', 'RepJimBanks'],\n",
              "      dtype='object', name='source')"
            ]
          },
          "execution_count": 208,
          "metadata": {},
          "output_type": "execute_result"
        }
      ],
      "source": [
        "# Creating a new dataframe called \"main_network\" with filtered nodes. Here we are choosing the 100 most \"weighted\" nodes\n",
        "main_network = network_df.groupby('source').weight.sum().sort_values(ascending=False).index[:100]\n",
        "main_network"
      ]
    },
    {
      "cell_type": "code",
      "execution_count": 209,
      "metadata": {},
      "outputs": [],
      "source": [
        "# Creating edges that will only contain the edges that are related to the nodes in our main_network\n",
        "edges = network_df[(network_df.source.isin(main_network)) & (network_df.target.isin(main_network))]"
      ]
    },
    {
      "cell_type": "code",
      "execution_count": 210,
      "metadata": {},
      "outputs": [],
      "source": [
        "# Here we are putting our edgelist into a nx graph\n",
        "g = nx.from_pandas_edgelist(edges, source='source', target='target', edge_attr='weight')"
      ]
    },
    {
      "cell_type": "code",
      "execution_count": 211,
      "metadata": {},
      "outputs": [
        {
          "data": {
            "text/plain": [
              "EdgeDataView([('SenDuckworth', 'SenSherrodBrown', {'weight': 0.0022675736961450003}), ('SenDuckworth', 'SenAmyKlobuchar', {'weight': 0.006825938566552001}), ('SenDuckworth', 'SenatorLujan', {'weight': 0.0022522522522520003}), ('SenDuckworth', 'SenSchumer', {'weight': 0.006182380216383}), ('SenDuckworth', 'ChrisVanHollen', {'weight': 0.003086419753086}), ('SenDuckworth', 'SenWarren', {'weight': 0.0019267822736030002}), ('SenDuckworth', 'RepBobbyRush', {'weight': 0.006872852233676001}), ('SenDuckworth', 'RepSchneider', {'weight': 0.004926108374384001}), ('SenDuckworth', 'RepJudyChu', {'weight': 0.0022675736961450003}), ('SenDuckworth', 'RepJasonCrow', {'weight': 0.011337868480725}), ('SenDuckworth', 'RepRaulGrijalva', {'weight': 0.0022675736961450003}), ('SenDuckworth', 'RepUnderwood', {'weight': 0.004535147392290001}), ('SenSherrodBrown', 'timkaine', {'weight': 0.005050505050505001}), ('SenSherrodBrown', 'SenAmyKlobuchar', {'weight': 0.0034129692832760004}), ('SenSherrodBrown', 'SenAlexPadilla', {'weight': 0.008281573498964}), ('SenSherrodBrown', 'SenTinaSmith', {'weight': 0.004784688995215}), ('SenSherrodBrown', 'SenWarren', {'weight': 0.0038535645472060004}), ('SenSherrodBrown', 'RonWyden', {'weight': 0.005934718100890001}), ('SenSherrodBrown', 'RepBeatty', {'weight': 0.003194888178913}), ('SenAmyKlobuchar', 'ChuckGrassley', {'weight': 0.011952191235059001}), ('SenAmyKlobuchar', 'SenatorLujan', {'weight': 0.006756756756756001}), ('SenAmyKlobuchar', 'SenSanders', {'weight': 0.004739336492890001}), ('SenAmyKlobuchar', 'SenSchumer', {'weight': 0.001545595054095}), ('SenAmyKlobuchar', 'SenTinaSmith', {'weight': 0.071770334928229}), ('SenAmyKlobuchar', 'SenJohnThune', {'weight': 0.046692607003891}), ('SenAmyKlobuchar', 'SenWarren', {'weight': 0.0019267822736030002}), ('SenAmyKlobuchar', 'SpeakerPelosi', {'weight': 0.0016103059581320002}), ('SenAmyKlobuchar', 'RepBobbyRush', {'weight': 0.0034364261168380004}), ('SenAmyKlobuchar', 'RepSpeier', {'weight': 0.0034129692832760004}), ('SenAlexPadilla', 'SenGillibrand', {'weight': 0.006410256410256001}), ('SenAlexPadilla', 'ChuckGrassley', {'weight': 0.001992031872509}), ('SenAlexPadilla', 'SenatorLujan', {'weight': 0.012422360248447001}), ('SenAlexPadilla', 'SenSanders', {'weight': 0.014218009478672002}), ('SenAlexPadilla', 'SenSchumer', {'weight': 0.007727975270479001}), ('SenAlexPadilla', 'SenWarren', {'weight': 0.0019267822736030002}), ('SenAlexPadilla', 'RonWyden', {'weight': 0.0029673590504450003}), ('SenAlexPadilla', 'RepCori', {'weight': 0.003984063745019}), ('SenAlexPadilla', 'SpeakerPelosi', {'weight': 0.0032206119162640004}), ('SenAlexPadilla', 'RepBarbaraLee', {'weight': 0.002070393374741}), ('SenTinaSmith', 'SenatorLujan', {'weight': 0.004784688995215}), ('SenTinaSmith', 'SenWarren', {'weight': 0.0038535645472060004}), ('SenTinaSmith', 'RepUnderwood', {'weight': 0.006535947712418001}), ('SenTinaSmith', 'RepKClark', {'weight': 0.004784688995215}), ('SenTinaSmith', 'RepDustyJohnson', {'weight': 0.004784688995215}), ('SenWarren', 'ChuckGrassley', {'weight': 0.001992031872509}), ('SenWarren', 'SenatorLujan', {'weight': 0.0019267822736030002}), ('SenWarren', 'SenSanders', {'weight': 0.0019267822736030002}), ('SenWarren', 'SenSchumer', {'weight': 0.007707129094412001}), ('SenWarren', 'ChrisVanHollen', {'weight': 0.0019267822736030002}), ('SenWarren', 'RonWyden', {'weight': 0.0029673590504450003}), ('SenWarren', 'RepCori', {'weight': 0.007968127490039001}), ('SenWarren', 'RepJudyChu', {'weight': 0.011173184357541001}), ('SenWarren', 'RepKClark', {'weight': 0.01}), ('SenWarren', 'RepJasonCrow', {'weight': 0.0031545741324920003}), ('SenWarren', 'rosadelauro', {'weight': 0.0029850746268650003}), ('SenWarren', 'RepMondaire', {'weight': 0.013698630136986}), ('SenWarren', 'RepBarbaraLee', {'weight': 0.0025641025641020003}), ('SenWarren', 'SpeakerPelosi', {'weight': 0.0016103059581320002}), ('SenWarren', 'RepKatiePorter', {'weight': 0.022388059701492}), ('SenWarren', 'RepUnderwood', {'weight': 0.0032679738562090004}), ('SenWarren', 'RepJimBanks', {'weight': 0.0019267822736030002}), ('SenWarren', 'BennieGThompson', {'weight': 0.0019267822736030002}), ('SenWarren', 'RepBonnie', {'weight': 0.0019267822736030002}), ('RonWyden', 'SenatorLujan', {'weight': 0.0022522522522520003}), ('RonWyden', 'SenSchumer', {'weight': 0.014836795252225001}), ('RonWyden', 'ChrisVanHollen', {'weight': 0.0029673590504450003}), ('RonWyden', 'RepBarbaraLee', {'weight': 0.0025641025641020003}), ('RepBeatty', 'SenSchumer', {'weight': 0.001545595054095}), ('RepBeatty', 'RepDianaDeGette', {'weight': 0.0063291139240500005}), ('RepBeatty', 'rosadelauro', {'weight': 0.0029850746268650003}), ('RepBeatty', 'LeaderHoyer', {'weight': 0.0018518518518510002}), ('RepBeatty', 'RepJeffries', {'weight': 0.014388489208633}), ('RepBeatty', 'RepMondaire', {'weight': 0.0045662100456620005}), ('RepBeatty', 'RepLawrence', {'weight': 0.003134796238244}), ('RepBeatty', 'RepBarbaraLee', {'weight': 0.0025641025641020003}), ('RepBeatty', 'RepLucyMcBath', {'weight': 0.007407407407407001}), ('RepBeatty', 'SpeakerPelosi', {'weight': 0.0032206119162640004}), ('RepBeatty', 'RepBobbyRush', {'weight': 0.017182130584192}), ('RepBeatty', 'RepSchneider', {'weight': 0.004926108374384001}), ('RepBeatty', 'RepSpeier', {'weight': 0.006993006993006001}), ('RepBeatty', 'RepMarkTakano', {'weight': 0.005076142131979}), ('RepBeatty', 'BennieGThompson', {'weight': 0.006849315068493}), ('RepBeatty', 'RepBonnie', {'weight': 0.008143322475570001}), ('RepBeatty', 'RepBobGibbs', {'weight': 0.003194888178913}), ('RepBeatty', 'RepRitchie', {'weight': 0.003194888178913}), ('RepBeatty', 'RepNikema', {'weight': 0.003194888178913}), ('SenMikeLee', 'SenTomCotton', {'weight': 0.005263157894736001}), ('SenMikeLee', 'RepAndyBiggsAZ', {'weight': 0.010526315789473}), ('SenMikeLee', 'RepBoebert', {'weight': 0.005263157894736001}), ('SenMikeLee', 'RepMoBrooks', {'weight': 0.005263157894736001}), ('SenMikeLee', 'RepCloudTX', {'weight': 0.010526315789473}), ('SenMikeLee', 'replouiegohmert', {'weight': 0.005263157894736001}), ('SenMikeLee', 'RepBobGood', {'weight': 0.005263157894736001}), ('SenMikeLee', 'RepHerrell', {'weight': 0.015789473684210003}), ('SenMikeLee', 'RepChrisStewart', {'weight': 0.021052631578947}), ('SenMikeLee', 'RepBonnie', {'weight': 0.005263157894736001}), ('SenTomCotton', 'RepHerrell', {'weight': 0.004950495049504001}), ('SenTomCotton', 'RepSpartz', {'weight': 0.004950495049504001}), ('RepHerrell', 'RepJimBanks', {'weight': 0.0023148148148140002}), ('RepHerrell', 'RepAndyBiggsAZ', {'weight': 0.0046296296296290005}), ('RepHerrell', 'RepBoebert', {'weight': 0.0023148148148140002}), ('RepHerrell', 'RepCloudTX', {'weight': 0.017543859649122}), ('RepHerrell', 'RepJamesComer', {'weight': 0.006944444444444001}), ('RepHerrell', 'RepFeenstra', {'weight': 0.008771929824561}), ('RepHerrell', 'RepFranklin', {'weight': 0.0046296296296290005}), ('RepHerrell', 'RepGrothman', {'weight': 0.021008403361344002}), ('RepHerrell', 'LeaderHoyer', {'weight': 0.0018518518518510002}), ('RepHerrell', 'RepDustyJohnson', {'weight': 0.011235955056179001}), ('RepHerrell', 'RepMikeJohnson', {'weight': 0.002132196162046}), ('RepHerrell', 'GOPLeader', {'weight': 0.011834319526627}), ('RepHerrell', 'RepMaryMiller', {'weight': 0.005681818181818001}), ('RepHerrell', 'SpeakerPelosi', {'weight': 0.0032206119162640004}), ('RepHerrell', 'RepKatiePorter', {'weight': 0.003731343283582}), ('RepHerrell', 'SteveScalise', {'weight': 0.0076335877862590005}), ('RepHerrell', 'RepTiffany', {'weight': 0.010526315789473}), ('RepHerrell', 'RepWesterman', {'weight': 0.043307086614173006}), ('RepHerrell', 'RepClayHiggins', {'weight': 0.0046296296296290005}), ('RepSpartz', 'RepJimBanks', {'weight': 0.005405405405405001}), ('RepSpartz', 'RepBice', {'weight': 0.005405405405405001}), ('RepSpartz', 'RepAndyBiggsAZ', {'weight': 0.005405405405405001}), ('RepSpartz', 'RepBoebert', {'weight': 0.005405405405405001}), ('RepSpartz', 'RepJamesComer', {'weight': 0.010050251256281001}), ('RepSpartz', 'RepRichHudson', {'weight': 0.010810810810810001}), ('RepSpartz', 'RepDustyJohnson', {'weight': 0.005405405405405001}), ('RepSpartz', 'RepMikeJohnson', {'weight': 0.010810810810810001}), ('RepSpartz', 'RepLaMalfa', {'weight': 0.005405405405405001}), ('RepSpartz', 'GOPLeader', {'weight': 0.005405405405405001}), ('RepSpartz', 'PatrickMcHenry', {'weight': 0.005405405405405001}), ('RepSpartz', 'SpeakerPelosi', {'weight': 0.0032206119162640004}), ('RepSpartz', 'RepPfluger', {'weight': 0.005405405405405001}), ('RepSpartz', 'RepMariaSalazar', {'weight': 0.005405405405405001}), ('RepSpartz', 'RepWesterman', {'weight': 0.005405405405405001}), ('RepSpartz', 'RobWittman', {'weight': 0.005405405405405001}), ('SenatorLujan', 'ChrisVanHollen', {'weight': 0.003086419753086}), ('SenatorLujan', 'SenSchumer', {'weight': 0.0045045045045040005}), ('SenSchumer', 'SenGillibrand', {'weight': 0.032051282051282}), ('SenSchumer', 'ChrisVanHollen', {'weight': 0.003086419753086}), ('SenSchumer', 'RepMondaire', {'weight': 0.009132420091324001}), ('SenSchumer', 'RepJohnKatko', {'weight': 0.006666666666666}), ('SenSchumer', 'SpeakerPelosi', {'weight': 0.0032206119162640004}), ('SenSchumer', 'RepBobbyRush', {'weight': 0.0034364261168380004}), ('SenSchumer', 'NydiaVelazquez', {'weight': 0.0045871559633020005}), ('SenSchumer', 'SenJohnThune', {'weight': 0.001545595054095}), ('SenSchumer', 'RepJudyChu', {'weight': 0.001545595054095}), ('SenSchumer', 'RepRaulGrijalva', {'weight': 0.001545595054095}), ('SenSchumer', 'RepMikeJohnson', {'weight': 0.003091190108191}), ('SenSchumer', 'RepBarbaraLee', {'weight': 0.001545595054095}), ('SenSchumer', 'RepRitchie', {'weight': 0.006182380216383}), ('SenSchumer', 'RepUnderwood', {'weight': 0.009273570324574001}), ('SenSchumer', 'RepNikema', {'weight': 0.001545595054095}), ('ChrisVanHollen', 'LeaderHoyer', {'weight': 0.0018518518518510002}), ('ChrisVanHollen', 'SpeakerPelosi', {'weight': 0.0016103059581320002}), ('ChrisVanHollen', 'RepUnderwood', {'weight': 0.0032679738562090004}), ('RepBobbyRush', 'RepAndyBiggsAZ', {'weight': 0.0012106537530260002}), ('RepBobbyRush', 'RepKClark', {'weight': 0.006872852233676001}), ('RepBobbyRush', 'rosadelauro', {'weight': 0.0029850746268650003}), ('RepBobbyRush', 'RepRaulGrijalva', {'weight': 0.0022522522522520003}), ('RepBobbyRush', 'LeaderHoyer', {'weight': 0.027491408934707}), ('RepBobbyRush', 'RepMondaire', {'weight': 0.0034364261168380004}), ('RepBobbyRush', 'RepLawrence', {'weight': 0.006872852233676001}), ('RepBobbyRush', 'RepBarbaraLee', {'weight': 0.006872852233676001}), ('RepBobbyRush', 'gracenapolitano', {'weight': 0.013745704467353001}), ('RepBobbyRush', 'SpeakerPelosi', {'weight': 0.010309278350515}), ('RepBobbyRush', 'RepKimSchrier', {'weight': 0.004405286343612}), ('RepBobbyRush', 'RepMarkTakano', {'weight': 0.025380710659898}), ('RepBobbyRush', 'BennieGThompson', {'weight': 0.020547945205479}), ('RepBobbyRush', 'RepRitchie', {'weight': 0.007194244604316001}), ('RepBobbyRush', 'NydiaVelazquez', {'weight': 0.0045871559633020005}), ('RepBobbyRush', 'RepBonnie', {'weight': 0.003257328990228}), ('RepBobbyRush', 'RepNikema', {'weight': 0.001912045889101}), ('RepBobbyRush', 'RepSchneider', {'weight': 0.0034364261168380004}), ('RepSchneider', 'RepKClark', {'weight': 0.004926108374384001}), ('RepSchneider', 'LeaderHoyer', {'weight': 0.009852216748768001}), ('RepSchneider', 'RepJerryNadler', {'weight': 0.009852216748768001}), ('RepSchneider', 'gracenapolitano', {'weight': 0.004926108374384001}), ('RepSchneider', 'SpeakerPelosi', {'weight': 0.0016103059581320002}), ('RepSchneider', 'RepRitchie', {'weight': 0.004926108374384001}), ('RepJudyChu', 'SenSanders', {'weight': 0.004739336492890001}), ('RepJudyChu', 'RepCori', {'weight': 0.011952191235059001}), ('RepJudyChu', 'RepJasonCrow', {'weight': 0.0031545741324920003}), ('RepJudyChu', 'RepDianaDeGette', {'weight': 0.0063291139240500005}), ('RepJudyChu', 'RepBarbaraLee', {'weight': 0.007692307692307001}), ('RepJudyChu', 'GOPLeader', {'weight': 0.001183431952662}), ('RepJudyChu', 'gracenapolitano', {'weight': 0.007352941176470001}), ('RepJudyChu', 'SpeakerPelosi', {'weight': 0.0032206119162640004}), ('RepJudyChu', 'RepKatiePorter', {'weight': 0.003731343283582}), ('RepJudyChu', 'RepAdamSchiff', {'weight': 0.005813953488372}), ('RepJudyChu', 'RepSpeier', {'weight': 0.0034965034965030004}), ('RepJudyChu', 'RepMarkTakano', {'weight': 0.010152284263959001}), ('RepJudyChu', 'NydiaVelazquez', {'weight': 0.0045871559633020005}), ('RepJudyChu', 'RepKClark', {'weight': 0.011173184357541001}), ('RepJudyChu', 'LeaderHoyer', {'weight': 0.00558659217877}), ('RepJudyChu', 'RepLucyMcBath', {'weight': 0.00558659217877}), ('RepJasonCrow', 'SenSanders', {'weight': 0.0031545741324920003}), ('RepJasonCrow', 'RepCori', {'weight': 0.012618296529968001}), ('RepJasonCrow', 'RepDianaDeGette', {'weight': 0.012658227848101}), ('RepJasonCrow', 'RepJeffries', {'weight': 0.014388489208633}), ('RepJasonCrow', 'RepBarbaraLee', {'weight': 0.0025641025641020003}), ('RepJasonCrow', 'SpeakerPelosi', {'weight': 0.006441223832528001}), ('RepJasonCrow', 'RepKatiePorter', {'weight': 0.029850746268656}), ('RepJasonCrow', 'RepDavidRouzer', {'weight': 0.028846153846153}), ('RepJasonCrow', 'RepMariaSalazar', {'weight': 0.006849315068493}), ('RepJasonCrow', 'RepAdamSchiff', {'weight': 0.005813953488372}), ('RepJasonCrow', 'RepSpeier', {'weight': 0.006993006993006001}), ('RepJasonCrow', 'RepUnderwood', {'weight': 0.0032679738562090004}), ('RepJasonCrow', 'rosadelauro', {'weight': 0.0031545741324920003}), ('RepJasonCrow', 'RepRaulGrijalva', {'weight': 0.01577287066246}), ('RepJasonCrow', 'LeaderHoyer', {'weight': 0.0031545741324920003}), ('RepJasonCrow', 'RepWesterman', {'weight': 0.0031545741324920003}), ('RepRaulGrijalva', 'SenSanders', {'weight': 0.004739336492890001}), ('RepRaulGrijalva', 'RepCori', {'weight': 0.007968127490039001}), ('RepRaulGrijalva', 'RepDianaDeGette', {'weight': 0.0063291139240500005}), ('RepRaulGrijalva', 'LeaderHoyer', {'weight': 0.0037037037037030004}), ('RepRaulGrijalva', 'RepBarbaraLee', {'weight': 0.0025641025641020003}), ('RepRaulGrijalva', 'SpeakerPelosi', {'weight': 0.0032206119162640004}), ('RepRaulGrijalva', 'RepKatiePorter', {'weight': 0.033582089552238}), ('RepRaulGrijalva', 'RepMarkTakano', {'weight': 0.005076142131979}), ('RepRaulGrijalva', 'NydiaVelazquez', {'weight': 0.032110091743119004}), ('RepRaulGrijalva', 'RepWesterman', {'weight': 0.003937007874015}), ('RepRaulGrijalva', 'gracenapolitano', {'weight': 0.0045045045045040005}), ('RepUnderwood', 'RepKClark', {'weight': 0.006535947712418001}), ('RepUnderwood', 'RepCarlos', {'weight': 0.0032679738562090004}), ('RepUnderwood', 'LeaderHoyer', {'weight': 0.006535947712418001}), ('RepUnderwood', 'RepMondaire', {'weight': 0.0032679738562090004}), ('RepUnderwood', 'RepLawrence', {'weight': 0.006535947712418001}), ('RepUnderwood', 'RepBarbaraLee', {'weight': 0.0032679738562090004}), ('RepUnderwood', 'RepLucyMcBath', {'weight': 0.007407407407407001}), ('RepUnderwood', 'SpeakerPelosi', {'weight': 0.0032206119162640004}), ('RepUnderwood', 'RepSpeier', {'weight': 0.006535947712418001}), ('RepUnderwood', 'RepMarkTakano', {'weight': 0.010152284263959001}), ('RepUnderwood', 'RepNikema', {'weight': 0.003824091778202}), ('RepUnderwood', 'RepBonnie', {'weight': 0.0032679738562090004}), ('SenGillibrand', 'RepSpeier', {'weight': 0.006410256410256001}), ('SenGillibrand', 'RepRitchie', {'weight': 0.006410256410256001}), ('RepSpeier', 'RepCori', {'weight': 0.003984063745019}), ('RepSpeier', 'LeaderHoyer', {'weight': 0.006993006993006001}), ('RepSpeier', 'RepJohnKatko', {'weight': 0.006666666666666}), ('RepSpeier', 'RepLawrence', {'weight': 0.013986013986013}), ('RepSpeier', 'RepBarbaraLee', {'weight': 0.0034965034965030004}), ('RepSpeier', 'RepLucyMcBath', {'weight': 0.007407407407407001}), ('RepSpeier', 'RepMcCaul', {'weight': 0.003246753246753}), ('RepSpeier', 'gracenapolitano', {'weight': 0.0034965034965030004}), ('RepSpeier', 'SpeakerPelosi', {'weight': 0.0034965034965030004}), ('RepSpeier', 'RepKatiePorter', {'weight': 0.006993006993006001}), ('RepSpeier', 'RepAdamSchiff', {'weight': 0.005813953488372}), ('RepSpeier', 'RepMarkTakano', {'weight': 0.005076142131979}), ('RepSpeier', 'NydiaVelazquez', {'weight': 0.0045871559633020005}), ('RepSpeier', 'RepBonnie', {'weight': 0.001628664495114}), ('RepSpeier', 'RepNikema', {'weight': 0.001912045889101}), ('RepSpeier', 'RepRitchie', {'weight': 0.0034965034965030004}), ('RepRitchie', 'RepKClark', {'weight': 0.007194244604316001}), ('RepRitchie', 'rosadelauro', {'weight': 0.0029850746268650003}), ('RepRitchie', 'LeaderHoyer', {'weight': 0.007194244604316001}), ('RepRitchie', 'RepJeffries', {'weight': 0.014388489208633}), ('RepRitchie', 'RepMondaire', {'weight': 0.007194244604316001}), ('RepRitchie', 'RepJohnKatko', {'weight': 0.013333333333333001}), ('RepRitchie', 'RepBarbaraLee', {'weight': 0.0025641025641020003}), ('RepRitchie', 'RepJerryNadler', {'weight': 0.0035971223021580003}), ('RepRitchie', 'gracenapolitano', {'weight': 0.0035971223021580003}), ('RepRitchie', 'SpeakerPelosi', {'weight': 0.0016103059581320002}), ('RepRitchie', 'RepAdamSchiff', {'weight': 0.011627906976744}), ('RepRitchie', 'RepMarkTakano', {'weight': 0.005076142131979}), ('RepRitchie', 'BennieGThompson', {'weight': 0.007194244604316001}), ('RepRitchie', 'NydiaVelazquez', {'weight': 0.0045871559633020005}), ('RepRitchie', 'RepBonnie', {'weight': 0.001628664495114}), ('RepRitchie', 'RepNikema', {'weight': 0.001912045889101}), ('ChuckGrassley', 'SenJohnThune', {'weight': 0.001992031872509}), ('ChuckGrassley', 'RepFeenstra', {'weight': 0.017928286852589}), ('SenJohnThune', 'RepDustyJohnson', {'weight': 0.011235955056179001}), ('SenJohnThune', 'SteveScalise', {'weight': 0.003816793893129}), ('SenJohnThune', 'RepChrisStewart', {'weight': 0.0038910505836570004}), ('RepFeenstra', 'RepBice', {'weight': 0.039473684210526}), ('RepFeenstra', 'RepBost', {'weight': 0.006993006993006001}), ('RepFeenstra', 'RepFranklin', {'weight': 0.00523560209424}), ('RepFeenstra', 'GOPLeader', {'weight': 0.0071005917159760006}), ('RepFeenstra', 'SpeakerPelosi', {'weight': 0.0032206119162640004}), ('RepFeenstra', 'RepMariaSalazar', {'weight': 0.013698630136986}), ('RepFeenstra', 'RepBryanSteil', {'weight': 0.0063897763578270005}), ('SenSanders', 'RepCori', {'weight': 0.011952191235059001}), ('SenSanders', 'RepBarbaraLee', {'weight': 0.009478672985781}), ('SenSanders', 'RepBonnie', {'weight': 0.014218009478672002}), ('SpeakerPelosi', 'RepJimBanks', {'weight': 0.040257648953301}), ('SpeakerPelosi', 'RepAndyBiggsAZ', {'weight': 0.0032206119162640004}), ('SpeakerPelosi', 'RepMoBrooks', {'weight': 0.0016103059581320002}), ('SpeakerPelosi', 'VernBuchanan', {'weight': 0.004830917874396001}), ('SpeakerPelosi', 'RepKClark', {'weight': 0.009661835748792001}), ('SpeakerPelosi', 'RepDianaDeGette', {'weight': 0.0016103059581320002}), ('SpeakerPelosi', 'rosadelauro', {'weight': 0.0016103059581320002}), ('SpeakerPelosi', 'RepFranklin', {'weight': 0.0016103059581320002}), ('SpeakerPelosi', 'LeaderHoyer', {'weight': 0.011272141706924001}), ('SpeakerPelosi', 'RepRonnyJackson', {'weight': 0.0016103059581320002}), ('SpeakerPelosi', 'RepJeffries', {'weight': 0.007194244604316001}), ('SpeakerPelosi', 'RepDustyJohnson', {'weight': 0.0016103059581320002}), ('SpeakerPelosi', 'RepMondaire', {'weight': 0.0016103059581320002}), ('SpeakerPelosi', 'RepLawrence', {'weight': 0.008051529790660001}), ('SpeakerPelosi', 'RepBarbaraLee', {'weight': 0.025764895330112003}), ('SpeakerPelosi', 'GOPLeader', {'weight': 0.0032206119162640004}), ('SpeakerPelosi', 'RepMcCaul', {'weight': 0.0016103059581320002}), ('SpeakerPelosi', 'RepJerryNadler', {'weight': 0.0032206119162640004}), ('SpeakerPelosi', 'gracenapolitano', {'weight': 0.0016103059581320002}), ('SpeakerPelosi', 'RepAdamSchiff', {'weight': 0.005813953488372}), ('SpeakerPelosi', 'RepMarkTakano', {'weight': 0.015228426395939002}), ('SpeakerPelosi', 'BennieGThompson', {'weight': 0.006849315068493}), ('SpeakerPelosi', 'NydiaVelazquez', {'weight': 0.0045871559633020005}), ('SpeakerPelosi', 'RepPfluger', {'weight': 0.0032206119162640004}), ('SpeakerPelosi', 'RepChrisStewart', {'weight': 0.004830917874396001}), ('SpeakerPelosi', 'RepTiffany', {'weight': 0.0016103059581320002}), ('SpeakerPelosi', 'RepDavidValadao', {'weight': 0.0016103059581320002}), ('SpeakerPelosi', 'RepBonnie', {'weight': 0.0016103059581320002}), ('SpeakerPelosi', 'RepWesterman', {'weight': 0.004830917874396001}), ('SpeakerPelosi', 'RepNikema', {'weight': 0.009661835748792001}), ('RepAndyBiggsAZ', 'RepRickAllen', {'weight': 0.006024096385542001}), ('RepAndyBiggsAZ', 'RepBrianBabin', {'weight': 0.002421307506053}), ('RepAndyBiggsAZ', 'RepBoebert', {'weight': 0.018181818181818}), ('RepAndyBiggsAZ', 'RepMoBrooks', {'weight': 0.008403361344537001}), ('RepAndyBiggsAZ', 'RepTedBudd', {'weight': 0.022388059701492}), ('RepAndyBiggsAZ', 'RepCloudTX', {'weight': 0.035087719298245}), ('RepAndyBiggsAZ', 'RepJamesComer', {'weight': 0.010050251256281001}), ('RepAndyBiggsAZ', 'RepFranklin', {'weight': 0.00523560209424}), ('RepAndyBiggsAZ', 'RepBobGibbs', {'weight': 0.015151515151515001}), ('RepAndyBiggsAZ', 'replouiegohmert', {'weight': 0.037313432835820004}), ('RepAndyBiggsAZ', 'RepBobGood', {'weight': 0.036036036036036}), ('RepAndyBiggsAZ', 'RepGrothman', {'weight': 0.004201680672268}), ('RepAndyBiggsAZ', 'RepClayHiggins', {'weight': 0.007042253521126001}), ('RepAndyBiggsAZ', 'RepRichHudson', {'weight': 0.006622516556291}), ('RepAndyBiggsAZ', 'RepRonnyJackson', {'weight': 0.0072992700729920005}), ('RepAndyBiggsAZ', 'RepDustyJohnson', {'weight': 0.005617977528089}), ('RepAndyBiggsAZ', 'RepMikeJohnson', {'weight': 0.010660980810234}), ('RepAndyBiggsAZ', 'RepLoudermilk', {'weight': 0.006711409395973001}), ('RepAndyBiggsAZ', 'GOPLeader', {'weight': 0.0035502958579880003}), ('RepAndyBiggsAZ', 'RepMcKinley', {'weight': 0.005347593582887}), ('RepAndyBiggsAZ', 'RepMaryMiller', {'weight': 0.022727272727272003}), ('RepAndyBiggsAZ', 'RepJerryNadler', {'weight': 0.002958579881656}), ('RepAndyBiggsAZ', 'RepRalphNorman', {'weight': 0.039301310043668006}), ('RepAndyBiggsAZ', 'SteveScalise', {'weight': 0.003816793893129}), ('RepAndyBiggsAZ', 'RepTiffany', {'weight': 0.010526315789473}), ('RepAndyBiggsAZ', 'RepPfluger', {'weight': 0.0012106537530260002}), ('RepAndyBiggsAZ', 'RepBonnie', {'weight': 0.0012106537530260002}), ('RepBoebert', 'RepCloudTX', {'weight': 0.017543859649122}), ('RepBoebert', 'RepBobGood', {'weight': 0.018018018018018}), ('RepBoebert', 'RepHarshbarger', {'weight': 0.006993006993006001}), ('RepBoebert', 'RepMikeJohnson', {'weight': 0.002132196162046}), ('RepBoebert', 'GOPLeader', {'weight': 0.002366863905325}), ('RepBoebert', 'RepRalphNorman', {'weight': 0.0043668122270740005}), ('RepBoebert', 'RepPfluger', {'weight': 0.0025974025974020002}), ('RepBoebert', 'SteveScalise', {'weight': 0.003816793893129}), ('RepBoebert', 'RepTiffany', {'weight': 0.015789473684210003}), ('RepBoebert', 'RepMoBrooks', {'weight': 0.0045454545454540005}), ('RepBoebert', 'RepFranklin', {'weight': 0.0045454545454540005}), ('RepBoebert', 'replouiegohmert', {'weight': 0.018181818181818}), ('RepBoebert', 'RepMaryMiller', {'weight': 0.0045454545454540005}), ('RepBoebert', 'RepBonnie', {'weight': 0.0045454545454540005}), ('RepMoBrooks', 'RepBrianBabin', {'weight': 0.007067137809187001}), ('RepMoBrooks', 'RepJimBanks', {'weight': 0.001248439450686}), ('RepMoBrooks', 'RepJamesComer', {'weight': 0.00502512562814}), ('RepMoBrooks', 'RepBobGibbs', {'weight': 0.007575757575757001}), ('RepMoBrooks', 'replouiegohmert', {'weight': 0.014925373134328}), ('RepMoBrooks', 'RepBobGood', {'weight': 0.009009009009009}), ('RepMoBrooks', 'RepRonnyJackson', {'weight': 0.0072992700729920005}), ('RepMoBrooks', 'RepMaryMiller', {'weight': 0.011363636363636001}), ('RepMoBrooks', 'RepRalphNorman', {'weight': 0.0043668122270740005}), ('RepMoBrooks', 'cathymcmorris', {'weight': 0.0022522522522520003}), ('RepMoBrooks', 'RepTiffany', {'weight': 0.005263157894736001}), ('RepMoBrooks', 'RepTedBudd', {'weight': 0.008403361344537001}), ('RepCloudTX', 'RepBrianBabin', {'weight': 0.008771929824561}), ('RepCloudTX', 'RepTedBudd', {'weight': 0.008771929824561}), ('RepCloudTX', 'RepJamesComer', {'weight': 0.025125628140703002}), ('RepCloudTX', 'RepFranklin', {'weight': 0.015706806282722002}), ('RepCloudTX', 'GOPLeader', {'weight': 0.001183431952662}), ('RepCloudTX', 'SteveScalise', {'weight': 0.003816793893129}), ('RepCloudTX', 'RepBryanSteil', {'weight': 0.003194888178913}), ('RepCloudTX', 'replouiegohmert', {'weight': 0.008771929824561}), ('RepCloudTX', 'RepClayHiggins', {'weight': 0.017543859649122}), ('RepCloudTX', 'RepRonnyJackson', {'weight': 0.008771929824561}), ('RepCloudTX', 'RepMikeJohnson', {'weight': 0.017543859649122}), ('replouiegohmert', 'RepBrianBabin', {'weight': 0.01060070671378}), ('replouiegohmert', 'RepTedBudd', {'weight': 0.007462686567164}), ('replouiegohmert', 'RepBobGood', {'weight': 0.027027027027027}), ('replouiegohmert', 'RepGrothman', {'weight': 0.004201680672268}), ('replouiegohmert', 'RepHarshbarger', {'weight': 0.013986013986013}), ('replouiegohmert', 'RepRonnyJackson', {'weight': 0.0072992700729920005}), ('replouiegohmert', 'RepLaMalfa', {'weight': 0.016666666666666}), ('replouiegohmert', 'RepMcKinley', {'weight': 0.005347593582887}), ('replouiegohmert', 'RepMaryMiller', {'weight': 0.028409090909090003}), ('replouiegohmert', 'RepRalphNorman', {'weight': 0.026200873362445}), ('replouiegohmert', 'RepMikeJohnson', {'weight': 0.022388059701492}), ('replouiegohmert', 'RepTiffany', {'weight': 0.007462686567164}), ('RepBobGood', 'RepRickAllen', {'weight': 0.009009009009009}), ('RepBobGood', 'RepBrianBabin', {'weight': 0.009009009009009}), ('RepBobGood', 'RepJimBanks', {'weight': 0.027027027027027}), ('RepBobGood', 'RepTedBudd', {'weight': 0.009009009009009}), ('RepBobGood', 'RepFranklin', {'weight': 0.009009009009009}), ('RepBobGood', 'RepClayHiggins', {'weight': 0.018018018018018}), ('RepBobGood', 'RepMikeJohnson', {'weight': 0.036036036036036}), ('RepBobGood', 'GOPLeader', {'weight': 0.009009009009009}), ('RepBobGood', 'RepBonnie', {'weight': 0.009009009009009}), ('RepChrisStewart', 'RepFranklin', {'weight': 0.005347593582887}), ('RepChrisStewart', 'RepMikeJohnson', {'weight': 0.005347593582887}), ('RepChrisStewart', 'RepJohnKatko', {'weight': 0.005347593582887}), ('RepChrisStewart', 'GOPLeader', {'weight': 0.08556149732620301}), ('RepChrisStewart', 'gracenapolitano', {'weight': 0.005347593582887}), ('RepChrisStewart', 'cathymcmorris', {'weight': 0.0022522522522520003}), ('RepChrisStewart', 'SteveScalise', {'weight': 0.037433155080213006}), ('RepBonnie', 'RepCori', {'weight': 0.004885993485342}), ('RepBonnie', 'RepKClark', {'weight': 0.003257328990228}), ('RepBonnie', 'rosadelauro', {'weight': 0.001628664495114}), ('RepBonnie', 'LeaderHoyer', {'weight': 0.003257328990228}), ('RepBonnie', 'RepJeffries', {'weight': 0.007194244604316001}), ('RepBonnie', 'RepMondaire', {'weight': 0.001628664495114}), ('RepBonnie', 'RepLawrence', {'weight': 0.001628664495114}), ('RepBonnie', 'RepBarbaraLee', {'weight': 0.009771986970684}), ('RepBonnie', 'GOPLeader', {'weight': 0.002366863905325}), ('RepBonnie', 'RepJerryNadler', {'weight': 0.001628664495114}), ('RepBonnie', 'gracenapolitano', {'weight': 0.003257328990228}), ('RepBonnie', 'RepKatiePorter', {'weight': 0.003731343283582}), ('RepBonnie', 'RepMarkTakano', {'weight': 0.005076142131979}), ('RepBonnie', 'BennieGThompson', {'weight': 0.001628664495114}), ('RepCori', 'rosadelauro', {'weight': 0.0029850746268650003}), ('RepCori', 'RepJerryNadler', {'weight': 0.002958579881656}), ('RepCori', 'RepKatiePorter', {'weight': 0.007462686567164}), ('RepCori', 'RepNikema', {'weight': 0.003824091778202}), ('RepCori', 'RepMondaire', {'weight': 0.003984063745019}), ('RepBarbaraLee', 'RepKClark', {'weight': 0.0025641025641020003}), ('RepBarbaraLee', 'RepDianaDeGette', {'weight': 0.0063291139240500005}), ('RepBarbaraLee', 'rosadelauro', {'weight': 0.0029850746268650003}), ('RepBarbaraLee', 'LeaderHoyer', {'weight': 0.005128205128205001}), ('RepBarbaraLee', 'RepMondaire', {'weight': 0.0025641025641020003}), ('RepBarbaraLee', 'RepAdamSchiff', {'weight': 0.005813953488372}), ('RepBarbaraLee', 'gracenapolitano', {'weight': 0.0025641025641020003}), ('RepMondaire', 'LeaderHoyer', {'weight': 0.0045662100456620005}), ('RepMondaire', 'RepAdamSchiff', {'weight': 0.005813953488372}), ('RepMondaire', 'RepJerryNadler', {'weight': 0.0045662100456620005}), ('RepJohnKatko', 'RepJamesComer', {'weight': 0.006666666666666}), ('RepJohnKatko', 'RepFranklin', {'weight': 0.006666666666666}), ('RepJohnKatko', 'RepMikeJohnson', {'weight': 0.006666666666666}), ('RepJohnKatko', 'GOPLeader', {'weight': 0.001183431952662}), ('RepJohnKatko', 'gracenapolitano', {'weight': 0.029411764705882002}), ('RepJohnKatko', 'RepPfluger', {'weight': 0.0025974025974020002}), ('RepJohnKatko', 'BennieGThompson', {'weight': 0.020547945205479}), ('NydiaVelazquez', 'LeaderHoyer', {'weight': 0.009174311926605}), ('NydiaVelazquez', 'RepJeffries', {'weight': 0.021582733812949003}), ('NydiaVelazquez', 'RepJerryNadler', {'weight': 0.0045871559633020005}), ('NydiaVelazquez', 'gracenapolitano', {'weight': 0.0045871559633020005}), ('NydiaVelazquez', 'BennieGThompson', {'weight': 0.0045871559633020005}), ('RepMikeJohnson', 'RepRickAllen', {'weight': 0.006024096385542001}), ('RepMikeJohnson', 'RepArrington', {'weight': 0.035714285714285005}), ('RepMikeJohnson', 'RepBrianBabin', {'weight': 0.002132196162046}), ('RepMikeJohnson', 'RepJimBanks', {'weight': 0.0024968789013730002}), ('RepMikeJohnson', 'RepBost', {'weight': 0.006993006993006001}), ('RepMikeJohnson', 'VernBuchanan', {'weight': 0.016666666666666}), ('RepMikeJohnson', 'RepTedBudd', {'weight': 0.002132196162046}), ('RepMikeJohnson', 'RepFranklin', {'weight': 0.015706806282722002}), ('RepMikeJohnson', 'RepBobGibbs', {'weight': 0.007575757575757001}), ('RepMikeJohnson', 'RepCarlos', {'weight': 0.003322259136212}), ('RepMikeJohnson', 'RepGrothman', {'weight': 0.004264392324093}), ('RepMikeJohnson', 'RepHarshbarger', {'weight': 0.002132196162046}), ('RepMikeJohnson', 'RepClayHiggins', {'weight': 0.004264392324093}), ('RepMikeJohnson', 'LeaderHoyer', {'weight': 0.0018518518518510002}), ('RepMikeJohnson', 'RepRichHudson', {'weight': 0.013245033112582}), ('RepMikeJohnson', 'GOPLeader', {'weight': 0.014201183431952001}), ('RepMikeJohnson', 'RepMcKinley', {'weight': 0.026737967914438002}), ('RepMikeJohnson', 'RepMaryMiller', {'weight': 0.022727272727272003}), ('RepMikeJohnson', 'RepJerryNadler', {'weight': 0.002958579881656}), ('RepMikeJohnson', 'RepRalphNorman', {'weight': 0.008733624454148001}), ('RepMikeJohnson', 'RepPfluger', {'weight': 0.012987012987012}), ('RepMikeJohnson', 'cathymcmorris', {'weight': 0.0022522522522520003}), ('RepMikeJohnson', 'RepDavidRouzer', {'weight': 0.009615384615384}), ('RepMikeJohnson', 'SteveScalise', {'weight': 0.011450381679389}), ('RepMikeJohnson', 'RepTiffany', {'weight': 0.010526315789473}), ('RepMikeJohnson', 'RepDavidValadao', {'weight': 0.007751937984496001}), ('RepMikeJohnson', 'RepAnnWagner', {'weight': 0.009615384615384}), ('RepMikeJohnson', 'RobWittman', {'weight': 0.008849557522123}), ('RepNikema', 'RepKClark', {'weight': 0.003333333333333}), ('RepNikema', 'RepLucyMcBath', {'weight': 0.001912045889101}), ('RepNikema', 'RepMarkTakano', {'weight': 0.005076142131979}), ('RepKClark', 'rosadelauro', {'weight': 0.0029850746268650003}), ('RepKClark', 'LeaderHoyer', {'weight': 0.0018518518518510002}), ('RepKClark', 'RepJerryNadler', {'weight': 0.002958579881656}), ('RepKClark', 'RepRichardNeal', {'weight': 0.006622516556291}), ('RepKClark', 'RepKatiePorter', {'weight': 0.003731343283582}), ('RepKClark', 'RepKimSchrier', {'weight': 0.004405286343612}), ('RepKClark', 'BennieGThompson', {'weight': 0.013698630136986}), ('RepKClark', 'RepLawrence', {'weight': 0.003333333333333}), ('RepDustyJohnson', 'RepRickAllen', {'weight': 0.005617977528089}), ('RepDustyJohnson', 'RepTedBudd', {'weight': 0.005617977528089}), ('RepDustyJohnson', 'cathymcmorris', {'weight': 0.0022522522522520003}), ('RepDustyJohnson', 'RepDavidValadao', {'weight': 0.023255813953488}), ('RepDustyJohnson', 'GOPLeader', {'weight': 0.033707865168539006}), ('RepDustyJohnson', 'SteveScalise', {'weight': 0.005617977528089}), ('RepDustyJohnson', 'RepKimSchrier', {'weight': 0.011235955056179001}), ('SteveScalise', 'RepBrianBabin', {'weight': 0.0076335877862590005}), ('SteveScalise', 'RepJimBanks', {'weight': 0.011450381679389}), ('SteveScalise', 'RepBice', {'weight': 0.019083969465648002}), ('SteveScalise', 'VernBuchanan', {'weight': 0.0076335877862590005}), ('SteveScalise', 'RepTedBudd', {'weight': 0.011450381679389}), ('SteveScalise', 'RepJamesComer', {'weight': 0.030150753768844}), ('SteveScalise', 'RepFranklin', {'weight': 0.0076335877862590005}), ('SteveScalise', 'RepBobGibbs', {'weight': 0.003816793893129}), ('SteveScalise', 'RepGrothman', {'weight': 0.004201680672268}), ('SteveScalise', 'RepHarshbarger', {'weight': 0.003816793893129}), ('SteveScalise', 'RepRichHudson', {'weight': 0.011450381679389}), ('SteveScalise', 'RepLoudermilk', {'weight': 0.003816793893129}), ('SteveScalise', 'GOPLeader', {'weight': 0.030534351145038004}), ('SteveScalise', 'PatrickMcHenry', {'weight': 0.003816793893129}), ('SteveScalise', 'RepPfluger', {'weight': 0.022900763358778}), ('SteveScalise', 'cathymcmorris', {'weight': 0.0076335877862590005}), ('SteveScalise', 'RepDavidRouzer', {'weight': 0.0076335877862590005}), ('SteveScalise', 'RepBryanSteil', {'weight': 0.0063897763578270005}), ('SteveScalise', 'RepAnnWagner', {'weight': 0.019230769230769003}), ('SteveScalise', 'RepWesterman', {'weight': 0.0076335877862590005}), ('LeaderHoyer', 'rosadelauro', {'weight': 0.020895522388059}), ('LeaderHoyer', 'RepJeffries', {'weight': 0.014388489208633}), ('LeaderHoyer', 'RepLawrence', {'weight': 0.006269592476489}), ('LeaderHoyer', 'RepLucyMcBath', {'weight': 0.014814814814814002}), ('LeaderHoyer', 'RepMcCaul', {'weight': 0.003246753246753}), ('LeaderHoyer', 'RepJerryNadler', {'weight': 0.0059171597633130004}), ('LeaderHoyer', 'RepRichardNeal', {'weight': 0.013245033112582}), ('LeaderHoyer', 'RepKatiePorter', {'weight': 0.003731343283582}), ('LeaderHoyer', 'RepKimSchrier', {'weight': 0.008810572687224}), ('LeaderHoyer', 'RepMarkTakano', {'weight': 0.010152284263959001}), ('LeaderHoyer', 'BennieGThompson', {'weight': 0.013698630136986}), ('LeaderHoyer', 'GOPLeader', {'weight': 0.0018518518518510002}), ('rosadelauro', 'RepLawrence', {'weight': 0.003134796238244}), ('rosadelauro', 'RepKatiePorter', {'weight': 0.011194029850746}), ('rosadelauro', 'gracenapolitano', {'weight': 0.005970149253731001}), ('RepKatiePorter', 'RepKimSchrier', {'weight': 0.013215859030837001}), ('RepJimBanks', 'RepRickAllen', {'weight': 0.001248439450686}), ('RepJimBanks', 'RepBrianBabin', {'weight': 0.012484394506866002}), ('RepJimBanks', 'RepTedBudd', {'weight': 0.014925373134328}), ('RepJimBanks', 'RepRichHudson', {'weight': 0.006622516556291}), ('RepJimBanks', 'RepRonnyJackson', {'weight': 0.0072992700729920005}), ('RepJimBanks', 'GOPLeader', {'weight': 0.0071005917159760006}), ('RepJimBanks', 'RepPfluger', {'weight': 0.0051948051948050005}), ('RepJimBanks', 'cathymcmorris', {'weight': 0.0022522522522520003}), ('RepJimBanks', 'RepTiffany', {'weight': 0.015789473684210003}), ('RepJimBanks', 'VernBuchanan', {'weight': 0.0024968789013730002}), ('RepJimBanks', 'RepFranklin', {'weight': 0.003745318352059}), ('RepJimBanks', 'RepRalphNorman', {'weight': 0.001248439450686}), ('RepJimBanks', 'RepDavidRouzer', {'weight': 0.001248439450686}), ('RepJimBanks', 'RepJoeWilson', {'weight': 0.0024968789013730002}), ('BennieGThompson', 'RepJeffries', {'weight': 0.007194244604316001}), ('RepRickAllen', 'RepFranklin', {'weight': 0.00523560209424}), ('RepRickAllen', 'RepLoudermilk', {'weight': 0.006711409395973001}), ('RepRickAllen', 'RepBlaine', {'weight': 0.008849557522123}), ('RepRickAllen', 'GOPLeader', {'weight': 0.002366863905325}), ('RepRickAllen', 'RepRalphNorman', {'weight': 0.0043668122270740005}), ('RepRickAllen', 'cathymcmorris', {'weight': 0.0022522522522520003}), ('RepRickAllen', 'RepJoeWilson', {'weight': 0.019047619047619}), ('RepRickAllen', 'RepTedBudd', {'weight': 0.006024096385542001}), ('RepRickAllen', 'RepClayHiggins', {'weight': 0.006024096385542001}), ('RepFranklin', 'RepArrington', {'weight': 0.0059523809523800006}), ('RepFranklin', 'RepBrianBabin', {'weight': 0.0035335689045930003}), ('RepFranklin', 'RepBice', {'weight': 0.010471204188481001}), ('RepFranklin', 'RepBost', {'weight': 0.006993006993006001}), ('RepFranklin', 'VernBuchanan', {'weight': 0.008333333333333}), ('RepFranklin', 'RepTedBudd', {'weight': 0.007462686567164}), ('RepFranklin', 'RepJamesComer', {'weight': 0.00502512562814}), ('RepFranklin', 'RepBrianFitz', {'weight': 0.0029850746268650003}), ('RepFranklin', 'RepBobGibbs', {'weight': 0.030303030303030002}), ('RepFranklin', 'RepCarlos', {'weight': 0.009966777408637}), ('RepFranklin', 'RepGrothman', {'weight': 0.021008403361344002}), ('RepFranklin', 'RepRichHudson', {'weight': 0.013245033112582}), ('RepFranklin', 'RepRonnyJackson', {'weight': 0.0072992700729920005}), ('RepFranklin', 'RepLaMalfa', {'weight': 0.005555555555555001}), ('RepFranklin', 'GOPLeader', {'weight': 0.0035502958579880003}), ('RepFranklin', 'RepMcKinley', {'weight': 0.005347593582887}), ('RepFranklin', 'RepRalphNorman', {'weight': 0.017467248908296002}), ('RepFranklin', 'RepPfluger', {'weight': 0.0025974025974020002}), ('RepFranklin', 'RepDavidRouzer', {'weight': 0.009615384615384}), ('RepFranklin', 'RepMariaSalazar', {'weight': 0.013698630136986}), ('RepFranklin', 'RepKimSchrier', {'weight': 0.004405286343612}), ('RepFranklin', 'RepBryanSteil', {'weight': 0.003194888178913}), ('RepFranklin', 'RepDavidValadao', {'weight': 0.007751937984496001}), ('RepFranklin', 'RepAnnWagner', {'weight': 0.009615384615384}), ('RepFranklin', 'RepJoeWilson', {'weight': 0.009523809523809}), ('RepFranklin', 'RobWittman', {'weight': 0.008849557522123}), ('RepFranklin', 'RepTiffany', {'weight': 0.00523560209424}), ('RepFranklin', 'RepWesterman', {'weight': 0.00523560209424}), ('RepLoudermilk', 'RepTedBudd', {'weight': 0.013422818791946001}), ('RepLoudermilk', 'RepClayHiggins', {'weight': 0.013422818791946001}), ('RepLoudermilk', 'GOPLeader', {'weight': 0.0035502958579880003}), ('RepLoudermilk', 'RepMcCaul', {'weight': 0.003246753246753}), ('RepLoudermilk', 'RepRalphNorman', {'weight': 0.0043668122270740005}), ('RepLoudermilk', 'RepBryanSteil', {'weight': 0.0063897763578270005}), ('RepBlaine', 'RepBost', {'weight': 0.006993006993006001}), ('RepBlaine', 'RepTedBudd', {'weight': 0.008849557522123}), ('RepBlaine', 'RepJamesComer', {'weight': 0.00502512562814}), ('RepBlaine', 'RepRonnyJackson', {'weight': 0.008849557522123}), ('RepBlaine', 'PatrickMcHenry', {'weight': 0.07476635514018601}), ('RepBlaine', 'RepBryanSteil', {'weight': 0.003194888178913}), ('GOPLeader', 'RepBrianBabin', {'weight': 0.015384615384615}), ('GOPLeader', 'RepBice', {'weight': 0.011834319526627}), ('GOPLeader', 'RepBost', {'weight': 0.001183431952662}), ('GOPLeader', 'VernBuchanan', {'weight': 0.009467455621301002}), ('GOPLeader', 'RepTedBudd', {'weight': 0.007462686567164}), ('GOPLeader', 'RepJamesComer', {'weight': 0.015075376884422}), ('GOPLeader', 'RepBobGibbs', {'weight': 0.0035502958579880003}), ('GOPLeader', 'RepCarlos', {'weight': 0.015384615384615}), ('GOPLeader', 'RepGrothman', {'weight': 0.004201680672268}), ('GOPLeader', 'RepHarshbarger', {'weight': 0.0035502958579880003}), ('GOPLeader', 'RepClayHiggins', {'weight': 0.007042253521126001}), ('GOPLeader', 'RepRichHudson', {'weight': 0.009467455621301002}), ('GOPLeader', 'RepRonnyJackson', {'weight': 0.001183431952662}), ('GOPLeader', 'RepLaMalfa', {'weight': 0.001183431952662}), ('GOPLeader', 'RepMcCaul', {'weight': 0.009740259740259001}), ('GOPLeader', 'PatrickMcHenry', {'weight': 0.009345794392523001}), ('GOPLeader', 'RepMaryMiller', {'weight': 0.005681818181818001}), ('GOPLeader', 'RepRalphNorman', {'weight': 0.008733624454148001}), ('GOPLeader', 'RepPfluger', {'weight': 0.025974025974025}), ('GOPLeader', 'cathymcmorris', {'weight': 0.018018018018018}), ('GOPLeader', 'RepMariaSalazar', {'weight': 0.027397260273972}), ('GOPLeader', 'RepBryanSteil', {'weight': 0.041533546325878}), ('GOPLeader', 'RepTiffany', {'weight': 0.005263157894736001}), ('GOPLeader', 'RepDavidValadao', {'weight': 0.007751937984496001}), ('GOPLeader', 'RepWesterman', {'weight': 0.023622047244094002}), ('GOPLeader', 'RepJerryNadler', {'weight': 0.001183431952662}), ('GOPLeader', 'RepDavidRouzer', {'weight': 0.002366863905325}), ('GOPLeader', 'RepAdamSchiff', {'weight': 0.002366863905325}), ('GOPLeader', 'RepJoeWilson', {'weight': 0.001183431952662}), ('GOPLeader', 'RobWittman', {'weight': 0.001183431952662}), ('RepRalphNorman', 'RepTedBudd', {'weight': 0.008733624454148001}), ('RepRalphNorman', 'RepJamesComer', {'weight': 0.020100502512562003}), ('RepRalphNorman', 'RepBobGibbs', {'weight': 0.0043668122270740005}), ('RepRalphNorman', 'RepCarlos', {'weight': 0.003322259136212}), ('RepRalphNorman', 'RepClayHiggins', {'weight': 0.0043668122270740005}), ('RepRalphNorman', 'RepRichHudson', {'weight': 0.006622516556291}), ('RepRalphNorman', 'RepPfluger', {'weight': 0.0025974025974020002}), ('RepRalphNorman', 'RepMariaSalazar', {'weight': 0.006849315068493}), ('RepRalphNorman', 'RepDavidValadao', {'weight': 0.007751937984496001}), ('RepRalphNorman', 'RepJoeWilson', {'weight': 0.009523809523809}), ('cathymcmorris', 'RepBice', {'weight': 0.009009009009009}), ('cathymcmorris', 'RepJamesComer', {'weight': 0.00502512562814}), ('cathymcmorris', 'RepHarshbarger', {'weight': 0.0022522522522520003}), ('cathymcmorris', 'RepRichHudson', {'weight': 0.0045045045045040005}), ('cathymcmorris', 'RepPfluger', {'weight': 0.0022522522522520003}), ('cathymcmorris', 'RepWesterman', {'weight': 0.035433070866141}), ('cathymcmorris', 'RobWittman', {'weight': 0.0022522522522520003}), ('RepJoeWilson', 'RepRichHudson', {'weight': 0.009523809523809}), ('RepJoeWilson', 'RepMariaSalazar', {'weight': 0.009523809523809}), ('RepTedBudd', 'RepArrington', {'weight': 0.0059523809523800006}), ('RepTedBudd', 'RepBrianBabin', {'weight': 0.007462686567164}), ('RepTedBudd', 'RepJamesComer', {'weight': 0.00502512562814}), ('RepTedBudd', 'RepBobGibbs', {'weight': 0.007575757575757001}), ('RepTedBudd', 'RepGrothman', {'weight': 0.008403361344537001}), ('RepTedBudd', 'RepRichHudson', {'weight': 0.006622516556291}), ('RepTedBudd', 'RepRonnyJackson', {'weight': 0.014598540145985002}), ('RepTedBudd', 'PatrickMcHenry', {'weight': 0.009345794392523001}), ('RepTedBudd', 'RepMcKinley', {'weight': 0.005347593582887}), ('RepTedBudd', 'RepMaryMiller', {'weight': 0.005681818181818001}), ('RepTedBudd', 'RepDavidRouzer', {'weight': 0.009615384615384}), ('RepTedBudd', 'RepBryanSteil', {'weight': 0.003194888178913}), ('RepTedBudd', 'RobWittman', {'weight': 0.008849557522123}), ('RepClayHiggins', 'RepJamesComer', {'weight': 0.020100502512562003}), ('RepClayHiggins', 'RepLaMalfa', {'weight': 0.005555555555555001}), ('RepClayHiggins', 'RepMaryMiller', {'weight': 0.011363636363636001}), ('VernBuchanan', 'RepArrington', {'weight': 0.008333333333333}), ('VernBuchanan', 'RepBost', {'weight': 0.013986013986013}), ('VernBuchanan', 'RepRichHudson', {'weight': 0.019867549668874003}), ('VernBuchanan', 'RepWesterman', {'weight': 0.003937007874015}), ('RepArrington', 'RepPfluger', {'weight': 0.007792207792207}), ('RepArrington', 'RepBryanSteil', {'weight': 0.003194888178913}), ('RepArrington', 'RepGrothman', {'weight': 0.0059523809523800006}), ('RepArrington', 'RepMcCaul', {'weight': 0.0059523809523800006}), ('RepArrington', 'RepDavidRouzer', {'weight': 0.0059523809523800006}), ('RepPfluger', 'RepBrianBabin', {'weight': 0.0051948051948050005}), ('RepPfluger', 'RepBice', {'weight': 0.003311258278145}), ('RepPfluger', 'RepRichHudson', {'weight': 0.0025974025974020002}), ('RepPfluger', 'RepRonnyJackson', {'weight': 0.0025974025974020002}), ('RepPfluger', 'RepMcCaul', {'weight': 0.009740259740259001}), ('RepPfluger', 'RepMcKinley', {'weight': 0.005347593582887}), ('RepPfluger', 'RepWesterman', {'weight': 0.007874015748031}), ('RepBryanSteil', 'RepBice', {'weight': 0.0063897763578270005}), ('RepBryanSteil', 'RepGrothman', {'weight': 0.0063897763578270005}), ('RepBryanSteil', 'PatrickMcHenry', {'weight': 0.028037383177570003}), ('RepBryanSteil', 'RepTiffany', {'weight': 0.0063897763578270005}), ('RepGrothman', 'RepJamesComer', {'weight': 0.008403361344537001}), ('RepGrothman', 'RepRonnyJackson', {'weight': 0.0072992700729920005}), ('RepGrothman', 'RepMcKinley', {'weight': 0.005347593582887}), ('RepGrothman', 'RepTiffany', {'weight': 0.010526315789473}), ('RepMcCaul', 'RepBice', {'weight': 0.003246753246753}), ('RepMcCaul', 'RepCarlos', {'weight': 0.003246753246753}), ('RepMcCaul', 'RepMariaSalazar', {'weight': 0.006493506493506}), ('RepDavidRouzer', 'RepBice', {'weight': 0.009615384615384}), ('RepDavidRouzer', 'RepRichHudson', {'weight': 0.006622516556291}), ('RepDavidRouzer', 'gracenapolitano', {'weight': 0.028846153846153}), ('RepBrianBabin', 'RepRonnyJackson', {'weight': 0.021897810218978003}), ('RepBrianBabin', 'RepMcKinley', {'weight': 0.005347593582887}), ('RepRonnyJackson', 'RepAnnWagner', {'weight': 0.009615384615384}), ('RepMcKinley', 'RepBice', {'weight': 0.005347593582887}), ('RepRichHudson', 'RepWesterman', {'weight': 0.003937007874015}), ('RepRichHudson', 'RepKimSchrier', {'weight': 0.006622516556291}), ('RepTiffany', 'RepHarshbarger', {'weight': 0.005263157894736001}), ('RepTiffany', 'RepWesterman', {'weight': 0.007874015748031}), ('RepDianaDeGette', 'gracenapolitano', {'weight': 0.012658227848101}), ('RepLawrence', 'RepMarkTakano', {'weight': 0.005076142131979}), ('RepLawrence', 'gracenapolitano', {'weight': 0.003134796238244}), ('RepLucyMcBath', 'gracenapolitano', {'weight': 0.007407407407407001}), ('RepMarkTakano', 'gracenapolitano', {'weight': 0.005076142131979}), ('RepBobGibbs', 'RepBice', {'weight': 0.003311258278145}), ('RepBice', 'RepLaMalfa', {'weight': 0.005555555555555001}), ('RepBice', 'RepWesterman', {'weight': 0.003937007874015}), ('RepLaMalfa', 'RepDavidValadao', {'weight': 0.007751937984496001}), ('RepLaMalfa', 'RepWesterman', {'weight': 0.003937007874015}), ('RepWesterman', 'RepDavidValadao', {'weight': 0.003937007874015}), ('RepJerryNadler', 'RepAdamSchiff', {'weight': 0.005813953488372}), ('RepJerryNadler', 'RepKimSchrier', {'weight': 0.004405286343612}), ('RepBost', 'RepCarlos', {'weight': 0.013986013986013}), ('RepCarlos', 'RepMariaSalazar', {'weight': 0.034246575342465}), ('gracenapolitano', 'RepKimSchrier', {'weight': 0.004405286343612})])"
            ]
          },
          "execution_count": 211,
          "metadata": {},
          "output_type": "execute_result"
        }
      ],
      "source": [
        "# Getting an overview of the edges in the nx graph with their \"weight\" attribute\n",
        "g.edges(data=True)"
      ]
    },
    {
      "cell_type": "code",
      "execution_count": 212,
      "metadata": {
        "id": "h2YKG3vzn7Lf"
      },
      "outputs": [],
      "source": [
        "# Check this shit out do i need it?\n",
        "#filepath_username = 'congress_network_data.json'\n",
        "\n",
        "#username_data = pd.read_json(filepath_username)\n",
        "\n",
        "#def extract_username_list(record):\n",
        "  #return record\n",
        "\n",
        "#username_data['Extracted_Username_List'] = username_data['usernameList'].apply(extract_username_list)\n",
        "\n",
        "#username_list = username_data['usernameList'][0]\n",
        "\n",
        "#usernames = pd.DataFrame({'username':username_list})\n",
        "#usernames.head()"
      ]
    },
    {
      "cell_type": "code",
      "execution_count": null,
      "metadata": {},
      "outputs": [],
      "source": []
    },
    {
      "cell_type": "code",
      "execution_count": 213,
      "metadata": {
        "id": "VPZgb9n1pKFr"
      },
      "outputs": [],
      "source": [
        "#G = nx.from_pandas_edgelist(G_pandas,\n",
        "                            #source='source',\n",
        "                            #target='target',\n",
        "                            #edge_attr='weight',\n",
        "                            #create_using = nx.DiGraph)\n",
        "#attributes = usernames.to_dict()['username']\n",
        "#nx.set_node_attributes(G, attributes, 'username')"
      ]
    },
    {
      "cell_type": "code",
      "execution_count": 214,
      "metadata": {
        "id": "ZZUhhpDTvK16"
      },
      "outputs": [],
      "source": [
        "centrality_dgr = nx.degree_centrality(g)\n",
        "dgr = nx.degree(g)\n",
        "centrality_eig = nx.eigenvector_centrality_numpy(g, weight = 'weight')\n",
        "centrality_between = nx.betweenness_centrality(g)"
      ]
    },
    {
      "cell_type": "code",
      "execution_count": 215,
      "metadata": {
        "id": "cNwryN1MvwX9"
      },
      "outputs": [],
      "source": [
        "dict_dgr = dict(nx.degree(g))\n",
        "dict_centrality_dgr = dict(nx.degree_centrality(g))\n",
        "dict_centrality_eig = dict(nx.eigenvector_centrality(g))\n",
        "dict_centrality_between = dict(nx.betweenness_centrality(g))"
      ]
    },
    {
      "cell_type": "code",
      "execution_count": 216,
      "metadata": {
        "id": "wPT2_5RtwmrU"
      },
      "outputs": [],
      "source": [
        "nx.set_node_attributes(g, dict_dgr, 'dgr')\n",
        "nx.set_node_attributes(g, dict_centrality_dgr, 'centrality_dgr')\n",
        "nx.set_node_attributes(g, dict_centrality_eig, 'centrality_eig')\n",
        "nx.set_node_attributes(g, dict_centrality_between, 'centrality_between')\n"
      ]
    },
    {
      "cell_type": "code",
      "execution_count": 217,
      "metadata": {
        "id": "exmYd4SpxYsy"
      },
      "outputs": [],
      "source": [
        "#top = 1\n",
        "#nodes_df = pd.DataFrame.from_dict(dict(G.nodes(data=True)), orient='index')\n",
        "#top_central_nodes = nodes_df[nodes_df.centrality_eig > nodes_df.centrality_eig.quantile(1-top)].index\n",
        "#G_sub = nx.subgraph(G, top_central_nodes)"
      ]
    },
    {
      "cell_type": "code",
      "execution_count": 218,
      "metadata": {
        "id": "nLt4inmYyCtj"
      },
      "outputs": [],
      "source": [
        "G_und = nx.to_undirected(g)\n",
        "partition = community_louvain.best_partition(g)\n",
        "nx.set_node_attributes(g, partition, 'community')\n",
        "nodes_df_und = pd.DataFrame.from_dict(dict(g.nodes(data=True)), orient='index')"
      ]
    },
    {
      "cell_type": "code",
      "execution_count": 219,
      "metadata": {
        "id": "H0DQTPOZy1RM"
      },
      "outputs": [],
      "source": [
        "net = Network(\n",
        "    notebook=True,\n",
        "    cdn_resources=\"remote\",\n",
        "    bgcolor=\"#222222\",\n",
        "    font_color=\"white\",\n",
        "    select_menu=True,\n",
        "    height=\"750px\",\n",
        "    width=\"100%\",\n",
        "    filter_menu=True,\n",
        ")\n",
        "\n",
        "net.set_options(\"\"\"\n",
        "const options = {\n",
        "  \"physics\": {\n",
        "    \"barnesHut\": {\n",
        "      \"gravitationalConstant\": -23950,\n",
        "      \"centralGravity\": 2\n",
        "    },\n",
        "    \"maxVelocity\": 70,\n",
        "    \"minVelocity\": 0.75\n",
        "  }\n",
        "}\n",
        "\"\"\"\n",
        ")\n",
        "net.from_nx(g)"
      ]
    },
    {
      "cell_type": "code",
      "execution_count": 220,
      "metadata": {
        "id": "zUn671chzqwb"
      },
      "outputs": [
        {
          "name": "stdout",
          "output_type": "stream",
          "text": [
            "nx.html\n"
          ]
        },
        {
          "data": {
            "text/html": [
              "\n",
              "        <iframe\n",
              "            width=\"100%\"\n",
              "            height=\"750px\"\n",
              "            src=\"nx.html\"\n",
              "            frameborder=\"0\"\n",
              "            allowfullscreen\n",
              "            \n",
              "        ></iframe>\n",
              "        "
            ],
            "text/plain": [
              "<IPython.lib.display.IFrame at 0x16c6fcf10>"
            ]
          },
          "execution_count": 220,
          "metadata": {},
          "output_type": "execute_result"
        }
      ],
      "source": [
        "net.show('nx.html')"
      ]
    },
    {
      "cell_type": "code",
      "execution_count": null,
      "metadata": {
        "id": "wIJOJ1M5zunJ"
      },
      "outputs": [],
      "source": []
    }
  ],
  "metadata": {
    "colab": {
      "provenance": []
    },
    "kernelspec": {
      "display_name": "Python 3",
      "name": "python3"
    },
    "language_info": {
      "codemirror_mode": {
        "name": "ipython",
        "version": 3
      },
      "file_extension": ".py",
      "mimetype": "text/x-python",
      "name": "python",
      "nbconvert_exporter": "python",
      "pygments_lexer": "ipython3",
      "version": "3.11.4"
    }
  },
  "nbformat": 4,
  "nbformat_minor": 0
}
